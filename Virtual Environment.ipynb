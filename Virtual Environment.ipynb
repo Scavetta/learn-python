{
 "cells": [
  {
   "cell_type": "markdown",
   "metadata": {},
   "source": [
    "### Virtual Environment\n",
    "\n",
    "When we work in real time applications, it often requires a packages and modules which are not part of the standard library from Python.\n",
    "\n",
    "Let's say an example, *NumPy* is a fundamental package for array computing with Python. \n",
    "\n",
    "Consider a scenario, You are working in two different projects. In one project, you require a NumPy 1.17.0 version and another project requires a latest version of Python which is NumPy 1.18.0. \n",
    "\n",
    "But there is no way to install two Python applications in a system with two different versions of NumPy.\n",
    "\n",
    "The finest solution to get rid of this issue is **Virtual Environment**, a self-contained directory tree that contains a Python installation for a particular version of Python, plus a number of additional packages.\n",
    "\n",
    "The module used to create and manage virtual environments is called **venv**. \n",
    "\n",
    "To create a virtual environment, decide upon a directory where you want to place it, and run the venv module as a script with the directory path\n",
    "\n",
    "```\n",
    "    python3 -m venv learn-python-env\n",
    "```\n",
    "\n",
    "This will create the *learn-python-env* directory if it doesn’t exist, and also create directories inside it containing a copy of the Python interpreter, the standard library, and various supporting files.\n",
    "\n",
    "Once you've created a virtual environment, you may activate it.\n",
    "\n",
    "On Windows: ```learn-python-env\\Scripts\\activate.bat``` <br>\n",
    "On Linux or MacOS: ```source learn-python-env/bin/activate```\n",
    "\n",
    "Activating the virtual environment will change your shell’s prompt to show what virtual environment you’re using, and modify the environment so that running python will get you that particular version and installation of Python.\n",
    "\n",
    "You can install, upgrade, and remove packages using a program called **pip** that only belongs to virtual environment.\n",
    "\n",
    "To deactivate virtual environment, type **deactivate** in Command Prompt/Terminal.\n",
    "\n",
    "**Note:** *deactivate* works only if you activate virtual environment"
   ]
  }
 ],
 "metadata": {
  "kernelspec": {
   "display_name": "Python 3",
   "language": "python",
   "name": "python3"
  },
  "language_info": {
   "codemirror_mode": {
    "name": "ipython",
    "version": 3
   },
   "file_extension": ".py",
   "mimetype": "text/x-python",
   "name": "python",
   "nbconvert_exporter": "python",
   "pygments_lexer": "ipython3",
   "version": "3.6.10"
  }
 },
 "nbformat": 4,
 "nbformat_minor": 2
}
