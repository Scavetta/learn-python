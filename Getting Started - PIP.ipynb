{
 "cells": [
  {
   "cell_type": "markdown",
   "metadata": {},
   "source": [
    "### Module and Package\n",
    "\n",
    "#### Module\n",
    "\n",
    "   In programming, a module is a piece of software that has a specific functionality. Modules in a Python is just simply a .py file\n",
    "   \n",
    "#### Package\n",
    "   Packages are namespaces which contain multiple packages and modules themselves. They are simply directories.\n",
    "   \n",
    "<hr>\n",
    "\n",
    "Python comes with lot of modules by default after the installation in your system.\n",
    "\n",
    "- To get system date and time information, **datetime** module is used\n",
    "    ```\n",
    "        import datetime\n",
    "        print(datetime.datetime.now())\n",
    "    ```\n",
    "- To get system information, **os** module is used\n",
    "    ```\n",
    "        import os\n",
    "        print(os.name)\n",
    "    ```\n",
    "    \n",
    "**To know more default modules** - [Modules](https://docs.python.org/3/py-modindex.html)"
   ]
  },
  {
   "cell_type": "markdown",
   "metadata": {},
   "source": [
    "Apart from those default modules in Python, many communities developed their own packages in order to achieve things in an easy manner\n",
    "\n",
    "To use those packages in our system by using Python, we should install that packages.\n",
    "\n",
    "To install the packages, we require tool - PIP. PIP is a package management system for Python. It manages all the packages you installed in your system for Python"
   ]
  },
  {
   "cell_type": "markdown",
   "metadata": {},
   "source": [
    "### PIP Installation\n",
    "\n",
    "#### Verifying PIP\n",
    "   - Before installing PIP in your system, just verify whether it exists or not\n",
    "   - In order to verify, run the command **python -m pip -V (or) python3 -m pip -V (or) python3.8 -m pip -V** from your Command Prompt/Terminal. Use any one of the command based on your previous section understanding (**Getting Started - Installation**)\n",
    "   - If it returns message other than **No module named pip**, it means PIP exist. Else follow below steps to install PIP in your system\n",
    "   \n",
    "#### Installation of PIP\n",
    "\n",
    "   - Download a python file - [Click here to download](https://bootstrap.pypa.io/get-pip.py)\n",
    "   - Run a command from Command Prompt/Terminal, **python get-pip.py**\n",
    "   - Follow the **Verifying PIP** steps"
   ]
  },
  {
   "cell_type": "markdown",
   "metadata": {},
   "source": [
    "### Installing a Packages\n",
    "\n",
    "Once you verified the installation of PIP in your system is successful, then you can run any of the command below\n",
    "\n",
    "   ```pip install package-name``` <br>\n",
    "   ```pip install \"package-name==version-no\"```<br>\n",
    "   ```pip install \"package-name>=1,<2\"```<br>\n",
    "   ```pip install -r requirements.txt```\n",
    "   \n",
    "   [Click here to know more about package installation](https://packaging.python.org/tutorials/installing-packages/#ensure-you-can-run-python-from-the-command-line)\n",
    "   \n",
    "<hr>\n",
    "\n",
    "**Installation of Jupyter Notebook (Package)**\n",
    "<br>\n",
    "- ```pip install notebook (Windows)```\n",
    "- ```sudo pip install notebook (Linux/Mac)```\n",
    "\n",
    "Follow the steps below to verify the installation status of Jupyter Notebook\n",
    "<br> \n",
    "```python -m jupyter --version```\n",
    "- If shows an output like **No module named jupyter**, installation of jupyter is failed. Else installation is successful\n",
    "- To run the python in web interface using jupyter, ```python -m jupyter notebook```"
   ]
  }
 ],
 "metadata": {
  "kernelspec": {
   "display_name": "Python 3",
   "language": "python",
   "name": "python3"
  },
  "language_info": {
   "codemirror_mode": {
    "name": "ipython",
    "version": 3
   },
   "file_extension": ".py",
   "mimetype": "text/x-python",
   "name": "python",
   "nbconvert_exporter": "python",
   "pygments_lexer": "ipython3",
   "version": "3.6.9"
  }
 },
 "nbformat": 4,
 "nbformat_minor": 2
}
