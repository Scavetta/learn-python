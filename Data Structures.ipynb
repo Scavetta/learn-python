{
 "cells": [
  {
   "cell_type": "markdown",
   "metadata": {},
   "source": [
    "### Data Structures\n",
    "\n",
    "#### List\n",
    "\n",
    "- **list** in a python is used to create a series of elements with same/different datatype\n",
    "- list() or [] used to create a list\n",
    "```\n",
    "a = list()\n",
    "print(a)\n",
    "b = [10]\n",
    "print(b)\n",
    "b.append(20)\n",
    "print(b)\n",
    "del b[0]\n",
    "print(b)\n",
    "```\n",
    "- To add an element in a list, use *append()* function by passing a value in it\n",
    "- To delete an element from a list, use *del list_name[index]*. *index* always starts from 0 \n",
    "\n",
    "#### Tuple\n",
    "- **tuple** in a python is almost similar to list, the key differences are list is mutable (homogeneous) which means value in a particular index can be changed/delete later but tuple is immutable (heterogeneous) which doesn't allow the user to change/delete the value\n",
    "```\n",
    "a = tuple()\n",
    "print(a)\n",
    "b = (20,30)\n",
    "print(b)\n",
    "b[0] = 10     # throw an error\n",
    "```\n",
    "\n",
    "#### Set\n",
    "- **set** in a python is used to create an unordered collection of element with no duplicates. The main purpose is to remove the duplicate elements from the *list* and *tuple*\n",
    "- set() is used to create a set in python, **Note:** - Don't use {} to create a set, which is dedicated for dict (Dictionary)\n",
    "```\n",
    "a = [10,20,30,20]\n",
    "print(set(a))\n",
    "```\n",
    "\n",
    "#### Dict\n",
    "- **dict** is used to create a dictionary in a python. In other words, we can create a key-value pair (JSON like structure).\n",
    "- dict() or {} is used to create a dict in python\n",
    "```\n",
    "a = dict()\n",
    "print(a)\n",
    "b = dict([('a',10),('b',20)])\n",
    "print(b)\n",
    "c = {'a':10, 'b':20}\n",
    "print(c)\n",
    "c['b'] = 30\n",
    "print(c)\n",
    "b['c'] = 40\n",
    "print(b)\n",
    "del b['a']\n",
    "print(b)\n",
    "```\n",
    "\n",
    "**Note:** - All the above data structure have a many methods to insert, update, append, delete, etc. For more reference about that methods, Please visit documentation [Click here](https://docs.python.org/3.8//tutorial/datastructures.html) "
   ]
  }
 ],
 "metadata": {
  "kernelspec": {
   "display_name": "Python 3",
   "language": "python",
   "name": "python3"
  },
  "language_info": {
   "codemirror_mode": {
    "name": "ipython",
    "version": 3
   },
   "file_extension": ".py",
   "mimetype": "text/x-python",
   "name": "python",
   "nbconvert_exporter": "python",
   "pygments_lexer": "ipython3",
   "version": "3.6.9"
  }
 },
 "nbformat": 4,
 "nbformat_minor": 2
}
