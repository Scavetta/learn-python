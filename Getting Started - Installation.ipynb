{
 "cells": [
  {
   "cell_type": "markdown",
   "metadata": {},
   "source": [
    "# Python\n",
    "\n",
    "Python is a programming language that lets you work more quickly and integrate your systems more effectively\n",
    "\n",
    "#### Quotes\n",
    "\n",
    "> Python is fast enough for our site and allows us to produce maintainable features in record times, with a minimum of developers - **YouTube**\n",
    "\n",
    "> Python has been an important part of Google since the beginning, and remains so as the system grows and evolves. Today dozens of Google engineers use Python, and we're looking for more people with skills in this language. - **Google**"
   ]
  },
  {
   "cell_type": "markdown",
   "metadata": {},
   "source": [
    "#### Installation\n",
    "\n",
    "**Note:** Python3.8.1 is the latest version at the time of creating this reference documentation\n",
    "\n",
    "##### Windows\n",
    "\n",
    "   1. [Download for Windows](https://www.python.org/ftp/python/3.8.1/python-3.8.1.exe)\n",
    "   2. Execute a file by double click\n",
    "\n",
    "<hr>\n",
    "\n",
    "##### Mac\n",
    "\n",
    "   1. [Download for Mac](https://www.python.org/ftp/python/3.8.1/python-3.8.1-macosx10.9.pkg)\n",
    "   2. Execute a file by double click\n",
    "\n",
    "<hr>\n",
    "\n",
    "##### Linux\n",
    "   \n",
    "   1. Open Terminal\n",
    "   2. Run **sudo apt-get install python3.8**\n",
    "\n",
    "<hr>\n",
    "\n",
    "**To find various download method** - [Know more](https://www.python.org/downloads/release/python-381/)\n",
    "\n",
    "**To verify a installation**\n",
    "   1. Open Command Prompt/Terminal\n",
    "   2. Execute a command **python --version** (If installed newly)\n",
    "   3. If installed multiple versions of python, execute a command either by **python3 --version** or **python3.8 --version**\n",
    "   4. If any command prints **Python 3.8.1 or Python 3.8.0 (Only for Linux, no 3.8.1 is released at the time of reference creation)**, then fix that command as your primary command for python"
   ]
  }
 ],
 "metadata": {
  "kernelspec": {
   "display_name": "Python 3",
   "language": "python",
   "name": "python3"
  },
  "language_info": {
   "codemirror_mode": {
    "name": "ipython",
    "version": 3
   },
   "file_extension": ".py",
   "mimetype": "text/x-python",
   "name": "python",
   "nbconvert_exporter": "python",
   "pygments_lexer": "ipython3",
   "version": "3.6.9"
  }
 },
 "nbformat": 4,
 "nbformat_minor": 2
}
