{
 "cells": [
  {
   "cell_type": "markdown",
   "metadata": {},
   "source": [
    "### Using Python from Command Prompt/Terminal\n",
    "\n",
    "   1. Open Command Prompt/Terminal\n",
    "   2. Run the command **python**\n",
    "   \n",
    "   ```\n",
    "   Python 3.6.9 (default, Nov  7 2019, 10:44:02) \n",
    "   [GCC 8.3.0] on linux\n",
    "   Type \"help\", \"copyright\", \"credits\" or \"license\" for more information.\n",
    "   >>> \n",
    "   ```\n",
    "   3. After executing the Step 2, you will be getting an output in the above. If you get output in the above format, then you open the **Python in an Interactive Session**.\n",
    "   4. In Interactive Session, you can run the python code line by line\n",
    "   5. For example, run the below code in Interactive Session from Command Prompt/Terminal\n",
    "   ```\n",
    "   >>> 2 + 2\n",
    "   4\n",
    "   ```\n",
    "   6. But when we are working in a project, this interactive session approach is not a right way\n",
    "   7. In the next section of this tutorial, we will get to know how to create a python file"
   ]
  }
 ],
 "metadata": {
  "kernelspec": {
   "display_name": "Python 3",
   "language": "python",
   "name": "python3"
  },
  "language_info": {
   "codemirror_mode": {
    "name": "ipython",
    "version": 3
   },
   "file_extension": ".py",
   "mimetype": "text/x-python",
   "name": "python",
   "nbconvert_exporter": "python",
   "pygments_lexer": "ipython3",
   "version": "3.6.9"
  }
 },
 "nbformat": 4,
 "nbformat_minor": 2
}
