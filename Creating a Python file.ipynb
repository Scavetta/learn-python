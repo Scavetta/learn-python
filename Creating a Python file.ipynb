{
 "cells": [
  {
   "cell_type": "markdown",
   "metadata": {},
   "source": [
    "### Creating a new Python file\n",
    "\n",
    "   - Open your favorite code editor\n",
    "   - If not available in your system, please install **anyone** of the software below\n",
    "       - [Notepad++](https://notepad-plus-plus.org/downloads/)\n",
    "       - [Atom](https://atom.io/)\n",
    "       - [Visual Studio Code](https://code.visualstudio.com/)\n",
    "       - [Brackets](http://brackets.io/)\n",
    "   - Create an new file and save that file as **hello.py**, **.py** means Python file\n",
    "   - Python is an interpreter language. Interpreter means executing a file line-by-line\n",
    "   - By default, Python interpreter recognize source code in the format of **UTF-8**.\n",
    "   - If you want to change the encoding format of the Python file, then you need to inform the interpreter that you were changing the encoding format\n",
    "   - To inform the encoding change in source file, you need to add this portion of statement **# -*- coding: encoding -*-** at first line of every Python file\n",
    "   ```\n",
    "       # -*- coding: cp1047 -*-\n",
    "   ```"
   ]
  }
 ],
 "metadata": {
  "kernelspec": {
   "display_name": "Python 3",
   "language": "python",
   "name": "python3"
  },
  "language_info": {
   "codemirror_mode": {
    "name": "ipython",
    "version": 3
   },
   "file_extension": ".py",
   "mimetype": "text/x-python",
   "name": "python",
   "nbconvert_exporter": "python",
   "pygments_lexer": "ipython3",
   "version": "3.6.9"
  }
 },
 "nbformat": 4,
 "nbformat_minor": 2
}
